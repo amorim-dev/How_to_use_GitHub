{
 "cells": [
  {
   "cell_type": "markdown",
   "id": "6281f542",
   "metadata": {},
   "source": [
    "# Markdown"
   ]
  },
  {
   "cell_type": "markdown",
   "id": "733888af",
   "metadata": {},
   "source": [
    "\n",
    "---\n",
    "\n",
    "### HEADINGS\n",
    "#### Add number (#) in front of a word or phrase. The number of number signs you use should correspond to the heading level.\n",
    "\n",
    "# Heading level 1\n",
    "## Heading level 2\n",
    "### Heading level 3\n",
    "#### Heading level 4\n",
    "##### Heading level 5\n",
    "###### Heading level 6"
   ]
  },
  {
   "cell_type": "markdown",
   "id": "6a76bfc5",
   "metadata": {},
   "source": [
    "\n",
    "---\n",
    "\n",
    "### BOLD\n",
    "\n",
    "Two ways, but **bold** is better than __bold__"
   ]
  },
  {
   "cell_type": "markdown",
   "id": "a58c0d25",
   "metadata": {},
   "source": [
    "\n",
    "---\n",
    "\n",
    "### ITALIC\n",
    "\n",
    "Two ways, but *italic* is better than _italic_"
   ]
  },
  {
   "cell_type": "markdown",
   "id": "12f2293d",
   "metadata": {},
   "source": [
    "\n",
    "---\n",
    "\n",
    "### BOLD AND ITALIC\n",
    "***Best Practices***"
   ]
  },
  {
   "cell_type": "markdown",
   "id": "dc9587e8",
   "metadata": {},
   "source": [
    "\n",
    "---\n",
    "\n",
    "### BLOCKQUOTES\n",
    "\n",
    "> To create a blockquote, add a \">\" in front of a paragraph.\n",
    ">\n",
    "> Blockquotes can contain multiple paragraphs. Add a \">\" on the blank lines between the paragraphs.\n",
    ">\n",
    ">> Add a \">>\" in front of the paragraph if you want to nest.\n"
   ]
  },
  {
   "cell_type": "markdown",
   "id": "87f6f654",
   "metadata": {},
   "source": [
    "\n",
    "---\n",
    "\n",
    "### LISTS\n",
    "\n",
    "- First item\n",
    "- Second item\n",
    "\n",
    "1. First item\n",
    "2. Second item\n",
    "\n",
    "* This is the first list item.\n",
    "    \n",
    "    I need to add another paragraph.\n",
    "    - Here's the second list item.\n",
    "        - or..."
   ]
  },
  {
   "cell_type": "markdown",
   "id": "16b08300",
   "metadata": {},
   "source": [
    "\n",
    "### CHECK LIST\n",
    "\n",
    "- [x] ok\n",
    "- [ ] To do"
   ]
  },
  {
   "cell_type": "markdown",
   "id": "f69cbcf7",
   "metadata": {},
   "source": [
    "\n",
    "---\n",
    "\n",
    "### Escaping Backticks\n",
    "\n",
    "``If the word or phrase you want to denote as code includes one or more backticks, you can escape it by enclosing the `word` or phrase in double backticks``"
   ]
  },
  {
   "cell_type": "markdown",
   "id": "81485a04",
   "metadata": {},
   "source": [
    "---\n",
    "### LINKS\n",
    "\n",
    "To create a link, enclose the **link text in brackets** (e.g., [Link_text]) and then follow it immediately with the **URL in parentheses** (e.g., (urlDelLink))\n",
    "\n",
    "Access my profile GitHub in [My GitHub](https://github.com/amorim-dev)."
   ]
  },
  {
   "cell_type": "markdown",
   "id": "7076b625",
   "metadata": {},
   "source": [
    "---\n",
    "### URLs and Email Addresses\n",
    "\n",
    "<https://www.myurl.org>\n",
    "\n",
    "<myemail@example.com>"
   ]
  },
  {
   "cell_type": "markdown",
   "id": "3e540e40",
   "metadata": {},
   "source": [
    "---\n",
    "### IMAGES\n",
    "\n",
    "Add an exclamation mark (!), followed by alt text in brackets, and the **URL** or **path**  to the image asset in parentheses. You can optionally add a title in quotation marks after the path or URL.\n",
    "\n",
    "![Mlogo image](https://plusmobileapps.com/assets/images/markdown-guide.jpg \"Markdown logo\")\n",
    "\n",
    "![Path image](images/howToCopyPath.png \"How to copy path\")\n"
   ]
  },
  {
   "cell_type": "code",
   "execution_count": null,
   "id": "7182e2b9",
   "metadata": {},
   "outputs": [],
   "source": []
  }
 ],
 "metadata": {
  "kernelspec": {
   "display_name": "Python 3",
   "language": "python",
   "name": "python3"
  },
  "language_info": {
   "codemirror_mode": {
    "name": "ipython",
    "version": 3
   },
   "file_extension": ".py",
   "mimetype": "text/x-python",
   "name": "python",
   "nbconvert_exporter": "python",
   "pygments_lexer": "ipython3",
   "version": "3.8.8"
  }
 },
 "nbformat": 4,
 "nbformat_minor": 5
}
